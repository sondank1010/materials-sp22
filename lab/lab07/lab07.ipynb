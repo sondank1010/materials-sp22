{
 "cells": [
  {
   "cell_type": "code",
   "execution_count": 73,
   "id": "cell-lab07-0",
   "metadata": {
    "deletable": false,
    "editable": false
   },
   "outputs": [],
   "source": [
    "# Initialize Otter\n",
    "import otter\n",
    "grader = otter.Notebook(\"lab07.ipynb\")"
   ]
  },
  {
   "cell_type": "markdown",
   "id": "cell-lab07-1",
   "metadata": {},
   "source": [
    "# Lab 7: Great British Bake Off (A/B Test)\n",
    "\n",
    "Welcome to Data 8 Lab 7! This week's lab will focus on A/B Testing using data from the ever-popular British television show, [*The Great British Bakeoff*](https://en.wikipedia.org/wiki/The_Great_British_Bake_Off).\n",
    "\n",
    "\n",
    "**Submission**: Once you’re finished, run all cells besides the last one, select File > Save Notebook, and then execute the final cell. Then submit the downloaded zip file, that includes your notebook,  according to your instructor's directions.\n",
    "\n",
    "First, set up the notebook by running the cell below."
   ]
  },
  {
   "cell_type": "code",
   "execution_count": 74,
   "id": "cell-lab07-2",
   "metadata": {},
   "outputs": [],
   "source": [
    "# Run this cell to set up the notebook, but please don't change it.\n",
    "\n",
    "# These lines import the Numpy and Datascience modules.\n",
    "import numpy as np\n",
    "\n",
    "from datascience import *\n",
    "\n",
    "# These lines do some fancy plotting magic.\n",
    "import matplotlib\n",
    "%matplotlib inline\n",
    "import matplotlib.pyplot as plots\n",
    "plots.style.use('fivethirtyeight')\n",
    "import warnings\n",
    "warnings.simplefilter('ignore', (FutureWarning))\n"
   ]
  },
  {
   "cell_type": "markdown",
   "id": "cell-lab07-3",
   "metadata": {},
   "source": [
    "## 1. A/B Testing\n",
    "\n",
    "A/B testing is a form of hypothesis testing that allows you to make comparisons between two distributions. We may also refer to an A/B test as a permutation test.\n",
    "\n",
    "You'll almost never be explicitly asked to perform an A/B test. Make sure you can identify situations where the test is appropriate and know how to correctly implement each step. Oftentimes, we use an A/B test to determine whether or not two samples came from the same underlying distribution."
   ]
  },
  {
   "cell_type": "markdown",
   "id": "cell-lab07-4",
   "metadata": {
    "deletable": false,
    "editable": false
   },
   "source": [
    "**Question 1.1.** The following statements are the steps of an A/B hypothesis test presented in a *random order*:\n",
    "\n",
    "1. Choose a test statistic (typically the difference in means between two categories)\n",
    "\n",
    "2. Shuffle the labels of the original sample, find your simulated test statistic, and repeat many times\n",
    "\n",
    "3. Find the value of the observed test statistic\n",
    "\n",
    "4. Calculate the p-value based off your observed and simulated test statistics\n",
    "\n",
    "5. Define a null and alternate model\n",
    "\n",
    "6. Use the p-value and p-value cutoff to draw a conclusion about the null hypothesis\n",
    "\n",
    "Assign `ab_test_order` to an array of integers that contains the correct order of an A/B test, where the first item of the array is the first step of an A/B test and the last item of the array is the last step of an A/B test.\n"
   ]
  },
  {
   "cell_type": "code",
   "execution_count": 75,
   "id": "cell-lab07-5",
   "metadata": {
    "tags": []
   },
   "outputs": [
    {
     "data": {
      "text/plain": [
       "array([5, 1, 3, 2, 4, 6])"
      ]
     },
     "execution_count": 75,
     "metadata": {},
     "output_type": "execute_result"
    }
   ],
   "source": [
    "ab_test_order = make_array(5, 1, 3, 2, 4, 6)\n",
    "ab_test_order "
   ]
  },
  {
   "cell_type": "code",
   "execution_count": 76,
   "id": "cell-lab07-6",
   "metadata": {
    "deletable": false,
    "editable": false
   },
   "outputs": [
    {
     "data": {
      "text/html": [
       "<p><strong><pre style='display: inline;'>q1_1</pre></strong> passed! 🌟</p>"
      ],
      "text/plain": [
       "q1_1 results: All test cases passed!"
      ]
     },
     "execution_count": 76,
     "metadata": {},
     "output_type": "execute_result"
    }
   ],
   "source": [
    "grader.check(\"q1_1\")"
   ]
  },
  {
   "cell_type": "markdown",
   "id": "cell-lab07-7",
   "metadata": {
    "deletable": false,
    "editable": false
   },
   "source": [
    "**Question 1.2.** If the null hypothesis of an A/B test is correct, should the order of labels affect the differences in means between each group? Why do we shuffle labels in an A/B test? If you are in a lab section, confirm your answer with a neighbor or staff member before moving on. \n"
   ]
  },
  {
   "cell_type": "markdown",
   "id": "cell-lab07-8",
   "metadata": {},
   "source": [
    "## 2. The Great British Bake Off\n",
    "\n",
    ">\"The Great British Bake Off (often abbreviated to Bake Off or GBBO) is a British television baking competition, produced by Love Productions, in which a group of amateur bakers compete against each other in a series of rounds, attempting to impress a group of judges with their baking skills\" [Wikipedia](https://en.wikipedia.org/wiki/The_Great_British_Bake_Off)\n",
    "\n",
    "For every week of the competition, the judges assign one contestant the title \"Star Baker\". Ultimately, one winner is crowned every season. Using this information, we would like to investigate how winning Star Baker awards affects the odds of winning a season of the show."
   ]
  },
  {
   "cell_type": "markdown",
   "id": "cell-lab07-9",
   "metadata": {
    "deletable": false,
    "editable": false
   },
   "source": [
    "**Question 2.1.** We want to know whether winning more Star Baker awards *causes* a change in likelihood of winning the season.  Why is it not sufficient to compare star baker rates for winners and losers?\n"
   ]
  },
  {
   "cell_type": "markdown",
   "id": "cell-lab07-10",
   "metadata": {},
   "source": [
    "### Running an Experiment\n",
    "\n",
    "We are going to run the following hypothesis test to determine the association between winning and number of Star Baker awards. The population we are examining is every contestant from seasons 2 through 11 of GBBO. We are going to use the following null and alternative hypotheses:\n",
    "\n",
    "**Null hypothesis:** The distribution of Star Baker awards between contestants who won their season and contestants who did not win their season is the same.\n",
    "\n",
    "**Alternative hypothesis:** Contestants who win their season of the show will win more Star Baker awards on average.\n",
    "\n",
    "Our alternative hypothesis is related to our suspicion that contestants who win more Star Baker awards are more skilled, so they are more likely to win the season."
   ]
  },
  {
   "cell_type": "markdown",
   "id": "cell-lab07-11",
   "metadata": {
    "deletable": false,
    "editable": false
   },
   "source": [
    "**Question 2.2.** Should we use an A/B test to test these hypotheses? If yes, what is our \"A\" group and what is our \"B\" group?\n"
   ]
  },
  {
   "cell_type": "markdown",
   "id": "cell-lab07-12",
   "metadata": {},
   "source": [
    "Check your answers with your neighbors or a staff member before you move on to the next section."
   ]
  },
  {
   "cell_type": "markdown",
   "id": "cell-lab07-13",
   "metadata": {},
   "source": [
    "The `bakers` table below describes the number of star baker awards each contest won and whether or not they won their season (`1` if they won, `0` if they did not win). The data was manually aggregated from Wikipedia for seasons 2-11 of the show. We randomized the order of rows as to not spoil the outcome of the show."
   ]
  },
  {
   "cell_type": "code",
   "execution_count": 77,
   "id": "cell-lab07-14",
   "metadata": {},
   "outputs": [
    {
     "data": {
      "text/html": [
       "<table border=\"1\" class=\"dataframe\">\n",
       "    <thead>\n",
       "        <tr>\n",
       "            <th>star baker awards</th> <th>won</th>\n",
       "        </tr>\n",
       "    </thead>\n",
       "    <tbody>\n",
       "        <tr>\n",
       "            <td>3                </td> <td>1   </td>\n",
       "        </tr>\n",
       "        <tr>\n",
       "            <td>0                </td> <td>0   </td>\n",
       "        </tr>\n",
       "        <tr>\n",
       "            <td>1                </td> <td>0   </td>\n",
       "        </tr>\n",
       "    </tbody>\n",
       "</table>\n",
       "<p>... (119 rows omitted)</p>"
      ],
      "text/plain": [
       "<IPython.core.display.HTML object>"
      ]
     },
     "metadata": {},
     "output_type": "display_data"
    }
   ],
   "source": [
    "bakers = Table.read_table(\"star_bakers.csv\")\n",
    "bakers.show(3)"
   ]
  },
  {
   "cell_type": "markdown",
   "id": "cell-lab07-15",
   "metadata": {
    "deletable": false,
    "editable": false
   },
   "source": [
    "**Question 2.3.** Create a new table called `means` that contains the mean number of star baker awards for bakers who did not win (`won==0`) and bakers that did win (`won==1`). The table should have the column names `won` and `star baker awards mean`."
   ]
  },
  {
   "cell_type": "code",
   "execution_count": 78,
   "id": "cell-lab07-16",
   "metadata": {
    "tags": []
   },
   "outputs": [
    {
     "data": {
      "text/html": [
       "<table border=\"1\" class=\"dataframe\">\n",
       "    <thead>\n",
       "        <tr>\n",
       "            <th>won</th> <th>star baker awards mean</th>\n",
       "        </tr>\n",
       "    </thead>\n",
       "    <tbody>\n",
       "        <tr>\n",
       "            <td>0   </td> <td>0.651786              </td>\n",
       "        </tr>\n",
       "        <tr>\n",
       "            <td>1   </td> <td>1.5                   </td>\n",
       "        </tr>\n",
       "    </tbody>\n",
       "</table>"
      ],
      "text/plain": [
       "won  | star baker awards mean\n",
       "0    | 0.651786\n",
       "1    | 1.5"
      ]
     },
     "execution_count": 78,
     "metadata": {},
     "output_type": "execute_result"
    }
   ],
   "source": [
    "means = bakers.group('won', np.mean).select('won', 'star baker awards mean')\n",
    "means"
   ]
  },
  {
   "cell_type": "code",
   "execution_count": 79,
   "id": "cell-lab07-17",
   "metadata": {
    "deletable": false,
    "editable": false
   },
   "outputs": [
    {
     "data": {
      "text/html": [
       "<p><strong><pre style='display: inline;'>q2_3</pre></strong> passed! 🌟</p>"
      ],
      "text/plain": [
       "q2_3 results: All test cases passed!"
      ]
     },
     "execution_count": 79,
     "metadata": {},
     "output_type": "execute_result"
    }
   ],
   "source": [
    "grader.check(\"q2_3\")"
   ]
  },
  {
   "cell_type": "markdown",
   "id": "cell-lab07-18",
   "metadata": {
    "deletable": false,
    "editable": false
   },
   "source": [
    "**Question 2.4.** Visualize the distribution of Star Baker awards for winners and non-winners. You should use the bins we provided.\n",
    "\n",
    "Hint: You will want to use the group argument of `tbl.hist`. In order to produce several overlayed histograms based on unique values in a given column, we can do something like `tbl.hist(..., group=<col_name>, bins=...)`!\n"
   ]
  },
  {
   "cell_type": "code",
   "execution_count": 80,
   "id": "cell-lab07-19",
   "metadata": {
    "tags": []
   },
   "outputs": [
    {
     "data": {
      "image/png": "[encoded data removed]",
      "text/plain": [
       "<Figure size 600x400 with 1 Axes>"
      ]
     },
     "metadata": {},
     "output_type": "display_data"
    }
   ],
   "source": [
    "useful_bins = np.arange(0, 7)\n",
    "bakers.hist('star baker awards', group = 'won', bins = useful_bins)"
   ]
  },
  {
   "cell_type": "markdown",
   "id": "cell-lab07-20",
   "metadata": {
    "deletable": false,
    "editable": false
   },
   "source": [
    "**Question 2.5.** We want to figure out if there is a difference between the distribution of Star Baker awards between winners and non winners. \n",
    "\n",
    "What should the test statistic be? Which values of this test statistic support the null, and which values support the alternative?\n",
    "\n",
    "If you are in lab, confirm your answer with a neighbor or staff member before moving on.\n",
    "\n",
    "Hint: You should think about what measures we use to describe a distribution. \n"
   ]
  },
  {
   "cell_type": "markdown",
   "id": "cell-lab07-21",
   "metadata": {
    "deletable": false,
    "editable": false
   },
   "source": [
    "**Question 2.6.** Set `observed_difference` to the observed test statistic using the `means` table. \n"
   ]
  },
  {
   "cell_type": "code",
   "execution_count": 81,
   "id": "cell-lab07-22",
   "metadata": {
    "tags": []
   },
   "outputs": [
    {
     "data": {
      "text/plain": [
       "0.8482142857142857"
      ]
     },
     "execution_count": 81,
     "metadata": {},
     "output_type": "execute_result"
    }
   ],
   "source": [
    "\n",
    "observed_difference =abs(means.column(1).item(0) - means.column(1).item(1)) \n",
    "observed_difference"
   ]
  },
  {
   "cell_type": "code",
   "execution_count": 82,
   "id": "cell-lab07-23",
   "metadata": {
    "deletable": false,
    "editable": false
   },
   "outputs": [
    {
     "data": {
      "text/html": [
       "<p><strong><pre style='display: inline;'>q2_6</pre></strong> passed! 🍀</p>"
      ],
      "text/plain": [
       "q2_6 results: All test cases passed!"
      ]
     },
     "execution_count": 82,
     "metadata": {},
     "output_type": "execute_result"
    }
   ],
   "source": [
    "grader.check(\"q2_6\")"
   ]
  },
  {
   "cell_type": "markdown",
   "id": "cell-lab07-24",
   "metadata": {
    "deletable": false,
    "editable": false
   },
   "source": [
    "**Question 2.7.** Given a table like `bakers`, a label column `label_col`, and a values column `val_col`, write a function that calculates the appropriate test statistic.\n",
    "\n",
    "*Hint:* Make sure that you are taking the directionality of our alternative hypothesis into account.\n"
   ]
  },
  {
   "cell_type": "code",
   "execution_count": 83,
   "id": "cell-lab07-25",
   "metadata": {
    "scrolled": true,
    "tags": []
   },
   "outputs": [
    {
     "data": {
      "text/plain": [
       "0.8482142857142857"
      ]
     },
     "execution_count": 83,
     "metadata": {},
     "output_type": "execute_result"
    }
   ],
   "source": [
    "\n",
    "\n",
    "def find_test_stat(tbl, label_col, val_col):\n",
    "    means = tbl.group(label_col, np.mean).select(label_col, val_col + ' mean')\n",
    "    stats = abs(means.column(1).item(0) - means.column(1).item(1))\n",
    "    return stats\n",
    "\n",
    "find_test_stat(bakers, \"won\", \"star baker awards\")"
   ]
  },
  {
   "cell_type": "code",
   "execution_count": 84,
   "id": "cell-lab07-26",
   "metadata": {
    "deletable": false,
    "editable": false
   },
   "outputs": [
    {
     "data": {
      "text/html": [
       "<p><strong><pre style='display: inline;'>q2_7</pre></strong> passed! 🚀</p>"
      ],
      "text/plain": [
       "q2_7 results: All test cases passed!"
      ]
     },
     "execution_count": 84,
     "metadata": {},
     "output_type": "execute_result"
    }
   ],
   "source": [
    "grader.check(\"q2_7\")"
   ]
  },
  {
   "cell_type": "markdown",
   "id": "cell-lab07-27",
   "metadata": {},
   "source": [
    "When we run a simulation for A/B testing, we resample by **shuffling the labels** of the original sample. If the null hypothesis is true and the star baker award distributions are the same, we expect that the difference in mean star baker awards will be not change when `\"won\"` labels are changed."
   ]
  },
  {
   "cell_type": "markdown",
   "id": "cell-lab07-28",
   "metadata": {
    "deletable": false,
    "editable": false
   },
   "source": [
    "**Question 2.8.** Write a function `simulate_and_test_statistic` to compute one trial of our A/B test. Your function should run a simulation and return a test statistic.\n"
   ]
  },
  {
   "cell_type": "code",
   "execution_count": 85,
   "id": "cell-lab07-29",
   "metadata": {
    "tags": []
   },
   "outputs": [
    {
     "data": {
      "text/plain": [
       "-0.35"
      ]
     },
     "execution_count": 85,
     "metadata": {},
     "output_type": "execute_result"
    }
   ],
   "source": [
    "def simulate_and_test_statistic(tbl, labels_col, values_col):\n",
    "    shuffled_lables = tbl.sample(with_replacement = False).column(labels_col)\n",
    "    shuffled_tbl = tbl.with_column(\"Shuffled labels\", shuffled_lables)\n",
    "    means = shuffled_tbl.group(\"Shuffled labels\", np.mean).select(\"Shuffled labels\", values_col + ' mean')\n",
    "    stats = means.column(1).item(1) - means.column(1).item(0)\n",
    "    return stats\n",
    "\n",
    "simulate_and_test_statistic(bakers, \"won\", \"star baker awards\")"
   ]
  },
  {
   "cell_type": "code",
   "execution_count": 86,
   "id": "cell-lab07-30",
   "metadata": {
    "deletable": false,
    "editable": false
   },
   "outputs": [
    {
     "data": {
      "text/html": [
       "<p><strong><pre style='display: inline;'>q2_8</pre></strong> passed! 🚀</p>"
      ],
      "text/plain": [
       "q2_8 results: All test cases passed!"
      ]
     },
     "execution_count": 86,
     "metadata": {},
     "output_type": "execute_result"
    }
   ],
   "source": [
    "grader.check(\"q2_8\")"
   ]
  },
  {
   "cell_type": "markdown",
   "id": "cell-lab07-31",
   "metadata": {
    "deletable": false,
    "editable": false
   },
   "source": [
    "**Question 2.9.** Simulate 5000 trials of our A/B test and store the test statistics in an array called `differences`.\n"
   ]
  },
  {
   "cell_type": "code",
   "execution_count": 87,
   "id": "cell-lab07-32",
   "metadata": {
    "tags": []
   },
   "outputs": [
    {
     "data": {
      "text/plain": [
       "array([ 0.08571429, -0.24107143,  0.19464286, ..., -0.45892857,\n",
       "        0.08571429, -0.24107143])"
      ]
     },
     "execution_count": 87,
     "metadata": {},
     "output_type": "execute_result"
    }
   ],
   "source": [
    "# This cell might take a couple seconds to run\n",
    "differences = make_array()\n",
    "n = 1\n",
    "while n <= 5000:\n",
    "    stat = simulate_and_test_statistic(bakers, \"won\", \"star baker awards\")\n",
    "    differences = np.append(differences, stat)  \n",
    "    n+= 1                                              \n",
    "differences"
   ]
  },
  {
   "cell_type": "code",
   "execution_count": 88,
   "id": "cell-lab07-33",
   "metadata": {
    "deletable": false,
    "editable": false
   },
   "outputs": [
    {
     "data": {
      "text/html": [
       "<p><strong><pre style='display: inline;'>q2_9</pre></strong> passed! 🎉</p>"
      ],
      "text/plain": [
       "q2_9 results: All test cases passed!"
      ]
     },
     "execution_count": 88,
     "metadata": {},
     "output_type": "execute_result"
    }
   ],
   "source": [
    "grader.check(\"q2_9\")"
   ]
  },
  {
   "cell_type": "markdown",
   "id": "cell-lab07-34",
   "metadata": {},
   "source": [
    "Run the cell below to view a histogram of your simulated test statistics plotted with your observed test statistic."
   ]
  },
  {
   "cell_type": "code",
   "execution_count": 89,
   "id": "cell-lab07-35",
   "metadata": {},
   "outputs": [
    {
     "data": {
      "image/png": "[encoded data removed]",
      "text/plain": [
       "<Figure size 600x400 with 1 Axes>"
      ]
     },
     "metadata": {},
     "output_type": "display_data"
    }
   ],
   "source": [
    "Table().with_column('Difference Between Group Means', differences).hist(bins=20)\n",
    "plots.scatter(observed_difference, 0, color='red', s=30, zorder=2)\n",
    "plots.ylim(-0.1, 1.35);"
   ]
  },
  {
   "cell_type": "markdown",
   "id": "cell-lab07-36",
   "metadata": {
    "deletable": false,
    "editable": false
   },
   "source": [
    "**Question 2.10.** Find the p-value for your test and assign it to `empirical_p`.\n"
   ]
  },
  {
   "cell_type": "code",
   "execution_count": 90,
   "id": "cell-lab07-37",
   "metadata": {
    "tags": []
   },
   "outputs": [
    {
     "data": {
      "text/plain": [
       "0.0144"
      ]
     },
     "execution_count": 90,
     "metadata": {},
     "output_type": "execute_result"
    }
   ],
   "source": [
    "empirical_p = np.count_nonzero(differences >= observed_difference) /len(differences) \n",
    "empirical_p"
   ]
  },
  {
   "cell_type": "code",
   "execution_count": 91,
   "id": "cell-lab07-38",
   "metadata": {
    "deletable": false,
    "editable": false
   },
   "outputs": [
    {
     "data": {
      "text/html": [
       "<p><strong><pre style='display: inline;'>q2_10</pre></strong> passed! 🙌</p>"
      ],
      "text/plain": [
       "q2_10 results: All test cases passed!"
      ]
     },
     "execution_count": 91,
     "metadata": {},
     "output_type": "execute_result"
    }
   ],
   "source": [
    "grader.check(\"q2_10\")"
   ]
  },
  {
   "cell_type": "markdown",
   "id": "cell-lab07-39",
   "metadata": {
    "deletable": false,
    "editable": false
   },
   "source": [
    "**Question 2.11.** Using a 5% P-value cutoff, draw a conclusion about the null and alternative hypotheses. Describe your findings using simple, non-technical language. What does your analysis tell you about the association between star baker awards and winning? What can you claim about causation from your statistical analysis? Call your GSI or AI over and confirm your answer. \n"
   ]
  },
  {
   "cell_type": "code",
   "execution_count": 92,
   "id": "cell-lab07-40",
   "metadata": {
    "deletable": false,
    "editable": false
   },
   "outputs": [
    {
     "data": {
      "text/html": [
       "<p><strong><pre style='display: inline;'>q2_10</pre></strong> passed! 🌈</p>"
      ],
      "text/plain": [
       "q2_10 results: All test cases passed!"
      ]
     },
     "execution_count": 92,
     "metadata": {},
     "output_type": "execute_result"
    }
   ],
   "source": [
    "grader.check(\"q2_10\")"
   ]
  },
  {
   "cell_type": "markdown",
   "id": "cell-lab07-41",
   "metadata": {},
   "source": [
    "## 3. Submission\n",
    "\n",
    "Minnie wanted to say congrats on finishing Lab 7!! You can now be like Minnie and enjoy your spring break!\n",
    "\n",
    "<img src=\"minnie_car.jpg\" alt=\"drawing\" width=\"300\"/>\n",
    "\n",
    "<img src=\"minnie_beach.jpg\" alt=\"drawing\" width=\"300\"/>\n",
    "\n",
    "**Important submission steps:** \n",
    "1. Run the tests and verify that they all pass.\n",
    "2. Choose **Save Notebook** from the **File** menu, then **run the final cell**. \n",
    "3. Click the link to download the zip file.\n",
    "4. Then submit the zip file to the corresponding assignment according to your instructor's directions. \n",
    "\n",
    "**It is your responsibility to make sure your work is saved before running the last cell.**"
   ]
  },
  {
   "cell_type": "markdown",
   "id": "cell-lab07-42",
   "metadata": {
    "deletable": false,
    "editable": false
   },
   "source": [
    "## Submission\n",
    "\n",
    "Make sure you have run all cells in your notebook in order before running the cell below, so that all images/graphs appear in the output. The cell below will generate a zip file for you to submit. **Please save before exporting!**"
   ]
  },
  {
   "cell_type": "code",
   "execution_count": 93,
   "id": "cell-lab07-43",
   "metadata": {
    "deletable": false,
    "editable": false
   },
   "outputs": [
    {
     "name": "stdout",
     "output_type": "stream",
     "text": [
      "Running your submission against local test cases...\n",
      "\n",
      "\n",
      "Your submission received the following results when run against available test cases:\n",
      "\n",
      "    q1_1 results: All test cases passed!\n",
      "\n",
      "    q2_3 results: All test cases passed!\n",
      "\n",
      "    q2_6 results: All test cases passed!\n",
      "\n",
      "    q2_7 results: All test cases passed!\n",
      "\n",
      "    q2_8 results: All test cases passed!\n",
      "\n",
      "    q2_9 results: All test cases passed!\n",
      "\n",
      "    q2_10 results: All test cases passed!\n"
     ]
    },
    {
     "data": {
      "text/html": [
       "\n",
       "                    <p>\n",
       "                        Your submission has been exported. Click\n",
       "                        <a href=\"lab07_2025_05_07T22_48_54_982837.zip\" download=\"lab07_2025_05_07T22_48_54_982837.zip\" target=\"_blank\">here</a> to download\n",
       "                        the zip file.\n",
       "                    </p>\n",
       "                "
      ],
      "text/plain": [
       "<IPython.core.display.HTML object>"
      ]
     },
     "metadata": {},
     "output_type": "display_data"
    }
   ],
   "source": [
    "# Save your notebook first, then run this cell to export your submission.\n",
    "grader.export(pdf=False, run_tests=True)"
   ]
  },
  {
   "cell_type": "markdown",
   "id": "cell-lab07-44",
   "metadata": {},
   "source": [
    " "
   ]
  }
 ],
 "metadata": {
  "kernelspec": {
   "display_name": "Python 3",
   "language": "python",
   "name": "python3"
  },
  "language_info": {
   "codemirror_mode": {
    "name": "ipython",
    "version": 3
   },
   "file_extension": ".py",
   "mimetype": "text/x-python",
   "name": "python",
   "nbconvert_exporter": "python",
   "pygments_lexer": "ipython3",
   "version": "3.13.3"
  },
  "otter": {
   "OK_FORMAT": true,
   "tests": {
    "q1_1": {
     "name": "q1_1",
     "points": null,
     "suites": [
      {
       "cases": [
        {
         "code": ">>> len(ab_test_order) == 6\nTrue",
         "hidden": false,
         "locked": false
        },
        {
         "code": ">>> np.allclose(np.array(ab_test_order)[:3] % 2 == 1, True)\nTrue",
         "hidden": false,
         "locked": false
        },
        {
         "code": ">>> np.allclose(np.array(ab_test_order)[3:] % 2 == 0, True)\nTrue",
         "hidden": false,
         "locked": false
        },
        {
         "code": ">>> import hashlib\n>>> \n>>> def get_hash(num):\n...     \"\"\"Helper function for assessing correctness.\"\"\"\n...     return hashlib.md5(str(num).encode()).hexdigest()\n>>> get_hash(np.array(ab_test_order).astype(int))\n'a7196ed0f271c873d9750cb92422d911'",
         "hidden": false,
         "locked": false
        }
       ],
       "scored": true,
       "setup": "",
       "teardown": "",
       "type": "doctest"
      }
     ]
    },
    "q2_10": {
     "name": "q2_10",
     "points": null,
     "suites": [
      {
       "cases": [
        {
         "code": ">>> 0 <= empirical_p < 0.05\nTrue",
         "hidden": false,
         "locked": false
        }
       ],
       "scored": true,
       "setup": "",
       "teardown": "",
       "type": "doctest"
      }
     ]
    },
    "q2_3": {
     "name": "q2_3",
     "points": null,
     "suites": [
      {
       "cases": [
        {
         "code": ">>> means.num_rows\n2",
         "hidden": false,
         "locked": false
        },
        {
         "code": ">>> np.round(min(means.column('star baker awards mean')), 2) == 0.65\nTrue",
         "hidden": false,
         "locked": false
        },
        {
         "code": ">>> np.round(max(means.column('star baker awards mean')), 2) == 1.5\nTrue",
         "hidden": false,
         "locked": false
        }
       ],
       "scored": true,
       "setup": "",
       "teardown": "",
       "type": "doctest"
      }
     ]
    },
    "q2_6": {
     "name": "q2_6",
     "points": null,
     "suites": [
      {
       "cases": [
        {
         "code": ">>> isinstance(observed_difference, float)\nTrue",
         "hidden": false,
         "locked": false
        },
        {
         "code": ">>> float(round(observed_difference, 3))\n0.848",
         "hidden": false,
         "locked": false
        }
       ],
       "scored": true,
       "setup": "",
       "teardown": "",
       "type": "doctest"
      }
     ]
    },
    "q2_7": {
     "name": "q2_7",
     "points": null,
     "suites": [
      {
       "cases": [
        {
         "code": ">>> np.isclose(round(find_test_stat(bakers, 'won', 'star baker awards'), 3) - 0.848, 0)\nTrue",
         "hidden": false,
         "locked": false
        }
       ],
       "scored": true,
       "setup": "",
       "teardown": "",
       "type": "doctest"
      }
     ]
    },
    "q2_8": {
     "name": "q2_8",
     "points": null,
     "suites": [
      {
       "cases": [
        {
         "code": ">>> test_stat = round(simulate_and_test_statistic(bakers, 'won', 'star baker awards'), 3)\n>>> -2 < test_stat < 2\nTrue",
         "hidden": false,
         "locked": false
        },
        {
         "code": ">>> np.random.seed(1)\n>>> test_stat2 = simulate_and_test_statistic(bakers, 'won', 'star baker awards')\n>>> np.round(test_stat2, 3) == -0.023 or np.round(test_stat2, 3) == -0.132\nTrue",
         "hidden": false,
         "locked": false
        }
       ],
       "scored": true,
       "setup": "",
       "teardown": "",
       "type": "doctest"
      }
     ]
    },
    "q2_9": {
     "name": "q2_9",
     "points": null,
     "suites": [
      {
       "cases": [
        {
         "code": ">>> len(differences)\n5000",
         "hidden": false,
         "locked": false
        },
        {
         "code": ">>> abs(np.average(differences)) < 0.05\nTrue",
         "hidden": false,
         "locked": false
        },
        {
         "code": ">>> all(differences == differences.item(0)) == False\nTrue",
         "hidden": false,
         "locked": false
        }
       ],
       "scored": true,
       "setup": "",
       "teardown": "",
       "type": "doctest"
      }
     ]
    }
   }
  }
 },
 "nbformat": 4,
 "nbformat_minor": 5
}
