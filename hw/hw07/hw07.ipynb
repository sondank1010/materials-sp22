{
 "cells": [
  {
   "cell_type": "code",
   "execution_count": 1,
   "id": "cell-hw07-0",
   "metadata": {
    "deletable": false,
    "editable": false
   },
   "outputs": [],
   "source": [
    "# Initialize Otter\n",
    "import otter\n",
    "grader = otter.Notebook(\"hw07.ipynb\")"
   ]
  },
  {
   "cell_type": "markdown",
   "id": "cell-hw07-1",
   "metadata": {},
   "source": [
    "# Homework 7: Testing Hypotheses\n",
    "\n",
    "Please complete this notebook by filling in the cells provided. Before you begin, execute the previous cell to load the provided tests."
   ]
  },
  {
   "cell_type": "markdown",
   "id": "cell-hw07-2",
   "metadata": {},
   "source": [
    "**Helpful Resource:**\n",
    "\n",
    "- [Python Reference](http://data8.org/sp22/python-reference.html): Cheat sheet of helpful array & table methods used in Data 8!\n",
    "\n",
    "**Recommended Readings**: \n",
    "\n",
    "* [Sampling Methods Guide](https://drive.google.com/file/d/1BohoJibiHweqVgnIuylae1AE58_ilKLi/view?usp=drive_link)\n",
    "* [Testing Hypotheses](https://www.inferentialthinking.com/chapters/11/Testing_Hypotheses.html)\n",
    "* [A/B Testing](https://inferentialthinking.com/chapters/12/1/AB_Testing.html)"
   ]
  },
  {
   "cell_type": "markdown",
   "id": "cell-hw07-3",
   "metadata": {},
   "source": [
    "Please complete this notebook by filling in the cells provided. Before you begin, execute the following cell to setup the notebook by importing some helpful libraries. Each time you start your server, you will need to execute this cell again.\n",
    "\n",
    "For all problems that you must write explanations and sentences for, you **must** provide your answer in the designated space. **Moreover, throughout this homework and all future ones, please be sure to not re-assign variables throughout the notebook!** For example, if you use `max_temperature` in your answer to one question, do not reassign it later on. Otherwise, you will fail tests that you thought you were passing previously!\n",
    "\n",
    "\n",
    "**Note: This homework has hidden tests on it. That means even though the tests may say 100% passed, it doesn't mean your final grade will be 100%. We will be running more tests for correctness once everyone turns in the homework.**\n",
    "\n",
    "\n",
    "Directly sharing answers is not okay, but discussing problems with the course staff or with other students is encouraged. \n",
    "\n",
    "You should start early so that you have time to get help if you're stuck."
   ]
  },
  {
   "cell_type": "code",
   "execution_count": 16,
   "id": "cell-hw07-4",
   "metadata": {},
   "outputs": [],
   "source": [
    "# Run this cell to set up the notebook, but please don't change it.\n",
    "\n",
    "# These lines import the Numpy and Datascience modules.\n",
    "import numpy as np\n",
    "from datascience import *\n",
    "\n",
    "# These lines do some fancy plotting magic.\n",
    "import matplotlib\n",
    "%matplotlib inline\n",
    "import matplotlib.pyplot as plt\n",
    "plt.style.use('fivethirtyeight')\n",
    "import warnings\n",
    "warnings.simplefilter('ignore', FutureWarning)"
   ]
  },
  {
   "cell_type": "markdown",
   "id": "cell-hw07-5",
   "metadata": {},
   "source": [
    "## 1. Vaccinations Across The Nation\n",
    "\n",
    "A vaccination clinic has two types of vaccines against a disease. Each person who comes in to be vaccinated gets either Vaccine 1 or Vaccine 2. One week, everyone who came in on Monday, Wednesday, and Friday was given Vaccine 1. Everyone who came in on Tuesday and Thursday was given Vaccine 2. The clinic is closed on weekends.\n",
    "\n",
    "Doctor DeNero at the clinic said, \"Oh wow, it's just like tossing a coin that lands heads with chance $\\frac{3}{5}$. Heads you get Vaccine 1 and Tails you get Vaccine 2.\"\n",
    "\n",
    "But Doctor Sahai said, \"No, it's not. We're not doing anything like tossing a coin.\"\n",
    "\n",
    "That week, the clinic gave Vaccine 1 to 211 people and Vaccine 2 to 107 people. Conduct a test of hypotheses to see which doctor's position is better supported by the data."
   ]
  },
  {
   "cell_type": "markdown",
   "id": "cell-hw07-6",
   "metadata": {
    "deletable": false,
    "editable": false
   },
   "source": [
    "**Question 1.1.** Given the information above, what was the sample size for the data, and what was the percentage of people who got **Vaccine 1?** **(4 points)**\n",
    "\n",
    "*Note*: Your percent should be a number between 0 and 100.\n"
   ]
  },
  {
   "cell_type": "code",
   "execution_count": 2,
   "id": "cell-hw07-7",
   "metadata": {
    "tags": []
   },
   "outputs": [
    {
     "name": "stdout",
     "output_type": "stream",
     "text": [
      "Sample Size: 318\n",
      "Vaccine 1 Percent: 66.35220125786164\n"
     ]
    }
   ],
   "source": [
    "sample_size = 211 + 107\n",
    "percent_V1 = (211 / sample_size) * 100\n",
    "\n",
    "print(f\"Sample Size: {sample_size}\")\n",
    "print(f\"Vaccine 1 Percent: {percent_V1}\")"
   ]
  },
  {
   "cell_type": "code",
   "execution_count": 3,
   "id": "cell-hw07-8",
   "metadata": {
    "deletable": false,
    "editable": false
   },
   "outputs": [
    {
     "data": {
      "text/html": [
       "<p><strong><pre style='display: inline;'>q1_1</pre></strong> passed! 🚀</p>"
      ],
      "text/plain": [
       "q1_1 results: All test cases passed!"
      ]
     },
     "execution_count": 3,
     "metadata": {},
     "output_type": "execute_result"
    }
   ],
   "source": [
    "grader.check(\"q1_1\")"
   ]
  },
  {
   "cell_type": "markdown",
   "id": "cell-hw07-9",
   "metadata": {
    "deletable": false,
    "editable": false
   },
   "source": [
    "<!-- BEGIN QUESTION -->\n",
    "\n",
    "**Question 1.2.** State the null hypothesis. It should reflect the position of either Dr. DeNero or Dr. Sahai. **(4 points)**\n",
    "\n",
    "*Note:* Check out [11.3](https://inferentialthinking.com/chapters/11/3/Decisions_and_Uncertainty.html#step-1-the-hypotheses) for a refresher on hypotheses.\n"
   ]
  },
  {
   "cell_type": "markdown",
   "id": "cell-hw07-10",
   "metadata": {},
   "source": [
    "_Type your answer here, replacing this text._"
   ]
  },
  {
   "cell_type": "markdown",
   "id": "cell-hw07-11",
   "metadata": {
    "deletable": false,
    "editable": false
   },
   "source": [
    "<!-- END QUESTION -->\n",
    "\n",
    "<!-- BEGIN QUESTION -->\n",
    "\n",
    "**Question 1.3.** State the alternative hypothesis. It should reflect the position of the doctor you did not choose to represent in Question 1.2. **(4 points)**\n",
    "\n",
    "*Note:* Check out [11.3](https://inferentialthinking.com/chapters/11/3/Decisions_and_Uncertainty.html#step-1-the-hypotheses) for a refresher on hypotheses.\n"
   ]
  },
  {
   "cell_type": "markdown",
   "id": "cell-hw07-12",
   "metadata": {},
   "source": [
    "_Type your answer here, replacing this text._"
   ]
  },
  {
   "cell_type": "markdown",
   "id": "cell-hw07-13",
   "metadata": {
    "deletable": false,
    "editable": false
   },
   "source": [
    "<!-- END QUESTION -->\n",
    "\n",
    "**Question 1.4.** One of the test statistics below is appropriate for testing these hypotheses. Assign the variable `valid_test_stat` to the number corresponding to the correct test statistic. **(4 points)**\n",
    "\n",
    "1. percent of heads - 60\n",
    "2. percent of heads - 50\n",
    "3. |percent of heads - 60|\n",
    "4. |percent of heads - 50|\n"
   ]
  },
  {
   "cell_type": "code",
   "execution_count": 9,
   "id": "cell-hw07-14",
   "metadata": {
    "tags": []
   },
   "outputs": [
    {
     "data": {
      "text/plain": [
       "3"
      ]
     },
     "execution_count": 9,
     "metadata": {},
     "output_type": "execute_result"
    }
   ],
   "source": [
    "valid_test_stat = 3\n",
    "valid_test_stat"
   ]
  },
  {
   "cell_type": "code",
   "execution_count": 10,
   "id": "cell-hw07-15",
   "metadata": {
    "deletable": false,
    "editable": false
   },
   "outputs": [
    {
     "data": {
      "text/html": [
       "<p><strong><pre style='display: inline;'>q1_4</pre></strong> passed! 🍀</p>"
      ],
      "text/plain": [
       "q1_4 results: All test cases passed!"
      ]
     },
     "execution_count": 10,
     "metadata": {},
     "output_type": "execute_result"
    }
   ],
   "source": [
    "grader.check(\"q1_4\")"
   ]
  },
  {
   "cell_type": "markdown",
   "id": "cell-hw07-16",
   "metadata": {
    "deletable": false,
    "editable": false
   },
   "source": [
    "**Question 1.5.** Using your answer from Questions 1.1 and 1.4, find the observed value of the test statistic and assign it to the variable `observed_statistic`. **(4 points)**\n"
   ]
  },
  {
   "cell_type": "code",
   "execution_count": 26,
   "id": "cell-hw07-17",
   "metadata": {
    "tags": []
   },
   "outputs": [
    {
     "data": {
      "text/plain": [
       "6.352201257861637"
      ]
     },
     "execution_count": 26,
     "metadata": {},
     "output_type": "execute_result"
    }
   ],
   "source": [
    "observed_statistic = abs(percent_V1 - 60)\n",
    "observed_statistic"
   ]
  },
  {
   "cell_type": "code",
   "execution_count": 27,
   "id": "cell-hw07-18",
   "metadata": {
    "deletable": false,
    "editable": false
   },
   "outputs": [
    {
     "data": {
      "text/html": [
       "<p><strong><pre style='display: inline;'>q1_5</pre></strong> passed! 🌈</p>"
      ],
      "text/plain": [
       "q1_5 results: All test cases passed!"
      ]
     },
     "execution_count": 27,
     "metadata": {},
     "output_type": "execute_result"
    }
   ],
   "source": [
    "grader.check(\"q1_5\")"
   ]
  },
  {
   "cell_type": "markdown",
   "id": "cell-hw07-19",
   "metadata": {
    "deletable": false,
    "editable": false
   },
   "source": [
    "**Question 1.6.** In order to perform this hypothesis test, you must simulate the test statistic. From the four options below, pick the assumption that is needed for this simulation. Assign `assumption_needed` to an integer corresponding to the assumption. **(4 points)**\n",
    "\n",
    "1. The statistic must be simulated under the null hypothesis.\n",
    "2. The statistic must be simulated under the alternative hypothesis.\n",
    "3. The statistic must be simulated under both hypotheses.\n",
    "4. No assumptions are needed. We can just simulate the statistic.\n"
   ]
  },
  {
   "cell_type": "code",
   "execution_count": 11,
   "id": "cell-hw07-20",
   "metadata": {
    "tags": []
   },
   "outputs": [
    {
     "data": {
      "text/plain": [
       "1"
      ]
     },
     "execution_count": 11,
     "metadata": {},
     "output_type": "execute_result"
    }
   ],
   "source": [
    "assumption_needed = 1\n",
    "assumption_needed"
   ]
  },
  {
   "cell_type": "code",
   "execution_count": 12,
   "id": "cell-hw07-21",
   "metadata": {
    "deletable": false,
    "editable": false
   },
   "outputs": [
    {
     "data": {
      "text/html": [
       "<p><strong><pre style='display: inline;'>q1_6</pre></strong> passed! 🌟</p>"
      ],
      "text/plain": [
       "q1_6 results: All test cases passed!"
      ]
     },
     "execution_count": 12,
     "metadata": {},
     "output_type": "execute_result"
    }
   ],
   "source": [
    "grader.check(\"q1_6\")"
   ]
  },
  {
   "cell_type": "markdown",
   "id": "cell-hw07-22",
   "metadata": {
    "deletable": false,
    "editable": false
   },
   "source": [
    "<!-- BEGIN QUESTION -->\n",
    "\n",
    "**Question 1.7.** Simulate 20,000 values of the test statistic under the assumption you picked in Question 1.6. **(4 points)** \n",
    "\n",
    "As usual, start by defining a function that simulates one value of the statistic. Your function should use `sample_proportions`. (You may find a variable defined in Question 1.1 useful here!) Then, write a `for` loop to simulate multiple values and collect them in the array `simulated_statistics`.\n",
    "\n",
    "Use as many lines of code as you need. We have included the code that visualizes the distribution of the simulated values. The red dot represents the observed statistic you found in Question 1.5.\n"
   ]
  },
  {
   "cell_type": "markdown",
   "id": "522ea383",
   "metadata": {},
   "source": [
    "sample_size = 211 + 107\n",
    "percent_V1 = (211 / sample_size) * 100\n",
    "\n",
    "print(f\"Sample Size: {sample_size}\")\n",
    "print(f\"Vaccine 1 Percent: {percent_V1}\")"
   ]
  },
  {
   "cell_type": "code",
   "execution_count": 20,
   "id": "5b1ebeb6",
   "metadata": {},
   "outputs": [
    {
     "data": {
      "text/plain": [
       "array([ 0.59748428,  0.40251572])"
      ]
     },
     "execution_count": 20,
     "metadata": {},
     "output_type": "execute_result"
    }
   ],
   "source": [
    "sample_proportions(sample_size, [0.6, 0.4])"
   ]
  },
  {
   "cell_type": "code",
   "execution_count": 21,
   "id": "cell-hw07-23",
   "metadata": {
    "tags": []
   },
   "outputs": [
    {
     "data": {
      "text/plain": [
       "58.490566037735846"
      ]
     },
     "execution_count": 21,
     "metadata": {},
     "output_type": "execute_result"
    }
   ],
   "source": [
    "def one_simulated_statistic():\n",
    "    return sample_proportions(sample_size,[0.6, 0.4]).item(0)  * 100\n",
    "  \n",
    "num_simulations = 20000\n",
    "\n",
    "simulated_statistics = make_array()\n",
    "for _ in np.arange(20000):\n",
    "    one_simulated_statistic()\n",
    "    simulated_statistics = np.append(simulated_statistics, one_simulated_statistic())\n",
    "\n",
    "# Run the this cell a few times to see how the simulated statistic changes\n",
    "one_simulated_statistic()"
   ]
  },
  {
   "cell_type": "code",
   "execution_count": 22,
   "id": "9c79de79",
   "metadata": {},
   "outputs": [
    {
     "data": {
      "text/plain": [
       "array([ 65.72327044,  55.97484277,  60.06289308, ...,  62.26415094,\n",
       "        57.86163522,  63.20754717])"
      ]
     },
     "execution_count": 22,
     "metadata": {},
     "output_type": "execute_result"
    }
   ],
   "source": [
    "simulated_statistics"
   ]
  },
  {
   "cell_type": "code",
   "execution_count": 32,
   "id": "19377167",
   "metadata": {},
   "outputs": [
    {
     "data": {
      "text/plain": [
       "6.352201257861637"
      ]
     },
     "execution_count": 32,
     "metadata": {},
     "output_type": "execute_result"
    }
   ],
   "source": [
    "observed_statistic"
   ]
  },
  {
   "cell_type": "markdown",
   "id": "cell-hw07-24",
   "metadata": {
    "deletable": false,
    "editable": false
   },
   "source": [
    "<!-- END QUESTION -->\n",
    "\n"
   ]
  },
  {
   "cell_type": "code",
   "execution_count": 62,
   "id": "cell-hw07-25",
   "metadata": {},
   "outputs": [
    {
     "data": {
      "image/png": "[encoded data removed]",
      "text/plain": [
       "<Figure size 600x400 with 1 Axes>"
      ]
     },
     "metadata": {},
     "output_type": "display_data"
    }
   ],
   "source": [
    "# Run this cell to produce a histogram of the simulated statistics\n",
    "\n",
    "Table().with_columns('Simulated Statistic', simulated_statistics).hist()\n",
    "plt.scatter(observed_statistic, -0.002, color='red', s=40);"
   ]
  },
  {
   "cell_type": "code",
   "execution_count": 33,
   "id": "6e355d6e",
   "metadata": {},
   "outputs": [
    {
     "name": "stdout",
     "output_type": "stream",
     "text": [
      "[ 65.72327044  55.97484277  60.06289308 ...,  62.26415094  57.86163522\n",
      "  63.20754717]\n",
      "6.352201257861637\n",
      "20000\n"
     ]
    }
   ],
   "source": [
    "print(simulated_statistics)\n",
    "print(observed_statistic)\n",
    "print(num_simulations)"
   ]
  },
  {
   "cell_type": "markdown",
   "id": "cell-hw07-26",
   "metadata": {
    "deletable": false,
    "editable": false
   },
   "source": [
    "**Question 1.8.** Using `simulated_statistics`, `observed_statistic`, and `num_simulations`, find the empirical p-value based on the simulation. **(4 points)**\n"
   ]
  },
  {
   "cell_type": "code",
   "execution_count": 43,
   "id": "cell-hw07-27",
   "metadata": {
    "tags": []
   },
   "outputs": [
    {
     "data": {
      "text/plain": [
       "1.0"
      ]
     },
     "execution_count": 43,
     "metadata": {},
     "output_type": "execute_result"
    }
   ],
   "source": [
    "p_value = np.count_nonzero(simulated_statistics >= observed_statistic) / num_simulations\n",
    "p_value"
   ]
  },
  {
   "cell_type": "code",
   "execution_count": 42,
   "id": "cell-hw07-28",
   "metadata": {
    "deletable": false,
    "editable": false
   },
   "outputs": [
    {
     "data": {
      "text/html": [
       "<p><strong><pre style='display: inline;'>q1_8</pre></strong> passed! 🙌</p>"
      ],
      "text/plain": [
       "q1_8 results: All test cases passed!"
      ]
     },
     "execution_count": 42,
     "metadata": {},
     "output_type": "execute_result"
    }
   ],
   "source": [
    "grader.check(\"q1_8\")"
   ]
  },
  {
   "cell_type": "markdown",
   "id": "cell-hw07-29",
   "metadata": {
    "deletable": false,
    "editable": false
   },
   "source": [
    "**Question 1.9.** Assign `correct_doctor` to the number corresponding to the correct statement below. Use the 5% cutoff for the p-value. **(4 points)**\n",
    "\n",
    "1. The data support Dr. DeNero's position more than they support Dr. Sahai's.\n",
    "2. The data support Dr. Sahai's position more than they support Dr. DeNero's.\n",
    "\n",
    "As a reminder, here are the two claims made by Dr. DeNero and Dr. Sahai:\n",
    "> **Doctor DeNero:** \"Oh wow, it's just like tossing a coin that lands heads with chance $\\frac{3}{5}$. Heads you get Vaccine 1 and Tails you get Vaccine 2.\"\n",
    "\n",
    ">**Doctor Sahai:** \"No, it's not. We're not doing anything like tossing a coin.\"\n"
   ]
  },
  {
   "cell_type": "code",
   "execution_count": 44,
   "id": "cell-hw07-30",
   "metadata": {
    "tags": []
   },
   "outputs": [
    {
     "data": {
      "text/plain": [
       "1"
      ]
     },
     "execution_count": 44,
     "metadata": {},
     "output_type": "execute_result"
    }
   ],
   "source": [
    "correct_doctor = 1\n",
    "correct_doctor"
   ]
  },
  {
   "cell_type": "code",
   "execution_count": 46,
   "id": "cell-hw07-31",
   "metadata": {
    "deletable": false,
    "editable": false
   },
   "outputs": [
    {
     "data": {
      "text/html": [
       "<p><strong><pre style='display: inline;'>q1_9</pre></strong> passed! 🎉</p>"
      ],
      "text/plain": [
       "q1_9 results: All test cases passed!"
      ]
     },
     "execution_count": 46,
     "metadata": {},
     "output_type": "execute_result"
    }
   ],
   "source": [
    "grader.check(\"q1_9\")"
   ]
  },
  {
   "cell_type": "markdown",
   "id": "cell-hw07-32",
   "metadata": {},
   "source": [
    "## 2. Using TVD as a Test Statistic\n",
    "\n",
    "Before beginning this section, please read [this section](https://inferentialthinking.com/chapters/11/2/Multiple_Categories.html#a-new-statistic-the-distance-between-two-distributions) of the textbook on TVD!"
   ]
  },
  {
   "cell_type": "markdown",
   "id": "cell-hw07-33",
   "metadata": {},
   "source": [
    "**Total variation distance (TVD)** is a special type of test statistic that we use when we want to compare two distributions of *categorical data*. It is often used when we observe that a set of observed proportions/probabilities is different than what we expect under the null model. \n",
    "\n",
    "Consider a six-sided die that we roll 6,000 times. If the die is fair, we would expect that each face comes up $\\frac{1}{6}$ of the time. By random chance, a fair die won't always result in equal proportions (that is, we won't get exactly 1,000 of each face). However, if we suspect that the die might be unfair based on the data, we can conduct a hypothesis test using TVD to compare the expected [$\\frac{1}{6}$, $\\frac{1}{6}$, $\\frac{1}{6}$, $\\frac{1}{6}$, $\\frac{1}{6}$, $\\frac{1}{6}$] distribution to what is actually observed.\n",
    "\n",
    "In this part of the homework, we'll look at how we can use TVD to determine the effect that different factors have on happiness. \n",
    "\n",
    "We will be working with data from the [Gallup World Poll](https://www.gallup.com/analytics/349487/gallup-global-happiness-center.aspx#:~:text=World%20Happiness%20Report&text=Using%20the%20Gallup%20World%20Poll,about%20the%20World%20Happiness%20Report.) that is presented in the World Happiness Report, a survey of the state of global happiness. The survey ranked 155 countries by overall happiness and estimated the influence that economic production, social support, life expectancy, freedom, absence of corruption, and generosity had on population happiness. The study has been repeated for several years, but we'll be looking at data from the 2016 survey.\n",
    "\n",
    "Run the cell below to load in the `happiness_scores` table."
   ]
  },
  {
   "cell_type": "code",
   "execution_count": null,
   "id": "cell-hw07-34",
   "metadata": {},
   "outputs": [],
   "source": [
    "happiness_scores = Table.read_table(\"happiness_scores.csv\")\n",
    "happiness_scores.show(5)"
   ]
  },
  {
   "cell_type": "markdown",
   "id": "cell-hw07-35",
   "metadata": {},
   "source": [
    "Participants in the study were asked to evaluate their life satisfaction from a scale of 0 (worst possible life) to 10 (best possible life). The responses for each country were averaged to create the `Happiness Score`.\n",
    "\n",
    "The columns `Economy (GDP per Capita)`, `Family`, `Health (Life Expectancy)`, `Freedom`, `Trust (Government Corruption)`, and `Generosity` estimate the extent to which each factor influences happiness, both for better or for worse. The happiness score is the sum of these factors; the larger a factor is, the more it contributes to overall happiness. [In other words, if you add up all the factors (in addition to a \"Difference from Dystopia\" value we excluded in the dataset), you get the happiness score.]\n",
    "\n",
    "Let's look at the different factors that affect happiness in the United States. Run the cell below to view the row in `us_happiness` that contains data for the United States."
   ]
  },
  {
   "cell_type": "code",
   "execution_count": null,
   "id": "cell-hw07-36",
   "metadata": {},
   "outputs": [],
   "source": [
    "us_happiness = happiness_scores.where(\"Country\", \"United States\")\n",
    "us_happiness"
   ]
  },
  {
   "cell_type": "markdown",
   "id": "cell-hw07-37",
   "metadata": {},
   "source": [
    "**To compare the different factors, we'll look at the proportion of the happiness score that is attributed to each variable. \n",
    "You can find these proportions in the table `us_happiness_factors` after running the cell below.**\n",
    "\n",
    "*Note:* The factors shown in `us_happiness` don't add up exactly to the happiness score, so we adjusted the proportions to  only account for the data we have access to. The proportions were found by dividing each Happiness Factor value by the sum of all Happiness Factor values in `us_happiness`."
   ]
  },
  {
   "cell_type": "code",
   "execution_count": null,
   "id": "cell-hw07-38",
   "metadata": {},
   "outputs": [],
   "source": [
    "us_happiness_factors = Table().read_table(\"us_happiness_factors.csv\")\n",
    "us_happiness_factors"
   ]
  },
  {
   "cell_type": "markdown",
   "id": "cell-hw07-39",
   "metadata": {
    "deletable": false,
    "editable": false
   },
   "source": [
    "<!-- BEGIN QUESTION -->\n",
    "\n",
    "**Question 2.1.** Suppose we want to test whether or not each factor contributes the same amount to the overall Happiness Score. Define the null hypothesis, alternative hypothesis, and test statistic in the cell below. Feel free to check your work with another student or course staff. **(4 points)**\n",
    "\n",
    "*Note:* Please format your answer as follows:\n",
    "- Null Hypothesis: ...  \n",
    "- Alternative Hypothesis: ...  \n",
    "- Test Statistic: ...  \n"
   ]
  },
  {
   "cell_type": "markdown",
   "id": "cell-hw07-40",
   "metadata": {},
   "source": [
    "_Type your answer here, replacing this text._"
   ]
  },
  {
   "cell_type": "markdown",
   "id": "cell-hw07-41",
   "metadata": {
    "deletable": false,
    "editable": false
   },
   "source": [
    "<!-- END QUESTION -->\n",
    "\n",
    "**Question 2.2.** Write a function `calculate_tvd` that takes in the observed distribution (`obs_dist`) and expected distribution under the null hypothesis (`null_dist`) and calculates the total variation distance. Use this function to set `observed_tvd` to be equal to the observed test statistic. **(4 points)**\n"
   ]
  },
  {
   "cell_type": "code",
   "execution_count": null,
   "id": "cell-hw07-42",
   "metadata": {
    "tags": []
   },
   "outputs": [],
   "source": [
    "null_distribution = np.ones(6) * (1/6)\n",
    "\n",
    "def calculate_tvd(obs_dist, null_dist):\n",
    "    ...\n",
    "    \n",
    "observed_tvd = ...\n",
    "observed_tvd"
   ]
  },
  {
   "cell_type": "code",
   "execution_count": null,
   "id": "cell-hw07-43",
   "metadata": {
    "deletable": false,
    "editable": false
   },
   "outputs": [],
   "source": [
    "grader.check(\"q2_2\")"
   ]
  },
  {
   "cell_type": "markdown",
   "id": "cell-hw07-44",
   "metadata": {
    "deletable": false,
    "editable": false
   },
   "source": [
    "**Question 2.3.** Create an array called `simulated_tvds` that contains 10,000 simulated values under the null hypothesis. Assume that the original sample consisted of 1,000 individuals. **(4 points)**\n",
    "\n",
    "*Hint:* The `sample_proportions` function may be helpful to you. Refer to the [Python Reference Sheet](http://data8.org/sp22/python-reference.html#:~:text=sample_proportions(sample_size%2C%20model_proportions)) to read up on it!\n"
   ]
  },
  {
   "cell_type": "code",
   "execution_count": null,
   "id": "cell-hw07-45",
   "metadata": {
    "tags": []
   },
   "outputs": [],
   "source": [
    "simulated_tvds = ...\n",
    "\n",
    "..."
   ]
  },
  {
   "cell_type": "code",
   "execution_count": null,
   "id": "cell-hw07-46",
   "metadata": {
    "deletable": false,
    "editable": false
   },
   "outputs": [],
   "source": [
    "grader.check(\"q2_3\")"
   ]
  },
  {
   "cell_type": "markdown",
   "id": "cell-hw07-47",
   "metadata": {},
   "source": [
    "Run the cell below to plot a histogram of your simulated test statistics, as well as a red dot representing the observed value of the test statistic."
   ]
  },
  {
   "cell_type": "code",
   "execution_count": null,
   "id": "cell-hw07-48",
   "metadata": {},
   "outputs": [],
   "source": [
    "Table().with_column(\"Simulated TVDs\", simulated_tvds).hist()\n",
    "plt.scatter(observed_tvd, 0, color='red', s=70, zorder=2);\n",
    "plt.show();"
   ]
  },
  {
   "cell_type": "markdown",
   "id": "cell-hw07-49",
   "metadata": {
    "deletable": false,
    "editable": false
   },
   "source": [
    "**Question 2.4.** Use your simulated statistics to calculate the p-value of your test. Make sure that this number is consistent with what you observed in the histogram above. **(4 points)**\n"
   ]
  },
  {
   "cell_type": "code",
   "execution_count": null,
   "id": "cell-hw07-50",
   "metadata": {
    "tags": []
   },
   "outputs": [],
   "source": [
    "p_value_tvd = ...\n",
    "p_value_tvd"
   ]
  },
  {
   "cell_type": "code",
   "execution_count": null,
   "id": "cell-hw07-51",
   "metadata": {
    "deletable": false,
    "editable": false
   },
   "outputs": [],
   "source": [
    "grader.check(\"q2_4\")"
   ]
  },
  {
   "cell_type": "markdown",
   "id": "cell-hw07-52",
   "metadata": {
    "deletable": false,
    "editable": false
   },
   "source": [
    "<!-- BEGIN QUESTION -->\n",
    "\n",
    "**Question 2.5.** What can you conclude about how each factor contributes to the overall happiness score in the US? Explain your answer using the results of your hypothesis test. Assume a p-value cutoff of 5%. **(4 points)**\n"
   ]
  },
  {
   "cell_type": "markdown",
   "id": "cell-hw07-53",
   "metadata": {},
   "source": [
    "_Type your answer here, replacing this text._"
   ]
  },
  {
   "cell_type": "markdown",
   "id": "cell-hw07-54",
   "metadata": {
    "deletable": false,
    "editable": false
   },
   "source": [
    "<!-- END QUESTION -->\n",
    "\n",
    "## 3. Who is Older?\n",
    "\n",
    "Data scientists have drawn a simple random sample of size 500 from a large population of adults. Each member of the population happened to identify as either \"male\" or \"female\". Data was collected on several attributes of the sampled people, including age. The table `sampled_ages` contains one row for each person in the sample, with columns containing the individual's gender identity."
   ]
  },
  {
   "cell_type": "code",
   "execution_count": null,
   "id": "cell-hw07-55",
   "metadata": {},
   "outputs": [],
   "source": [
    "sampled_ages = Table.read_table('age.csv')\n",
    "sampled_ages.show(5)"
   ]
  },
  {
   "cell_type": "markdown",
   "id": "cell-hw07-56",
   "metadata": {
    "deletable": false,
    "editable": false
   },
   "source": [
    "**Question 3.1.** How many females were there in our sample? Please use the provided skeleton code. **(4 points)**\n",
    "\n",
    "*Hint:* Keep in mind that `.group` sorts categories in alphabetical order!\n"
   ]
  },
  {
   "cell_type": "code",
   "execution_count": null,
   "id": "cell-hw07-57",
   "metadata": {
    "tags": []
   },
   "outputs": [],
   "source": [
    "num_females = sampled_ages.group(...)...\n",
    "num_females"
   ]
  },
  {
   "cell_type": "code",
   "execution_count": null,
   "id": "cell-hw07-58",
   "metadata": {
    "deletable": false,
    "editable": false
   },
   "outputs": [],
   "source": [
    "grader.check(\"q3_1\")"
   ]
  },
  {
   "cell_type": "markdown",
   "id": "cell-hw07-59",
   "metadata": {
    "deletable": false,
    "editable": false
   },
   "source": [
    "**Question 3.2.** Complete the cell below so that `avg_male_vs_female` evaluates to `True` if the sampled males are older than the sampled females on average, and `False` otherwise. Use Python code to achieve this. **(4 points)**\n"
   ]
  },
  {
   "cell_type": "code",
   "execution_count": null,
   "id": "cell-hw07-60",
   "metadata": {
    "tags": []
   },
   "outputs": [],
   "source": [
    "group_mean_tbl = sampled_ages.group(...)\n",
    "group_means = group_mean_tbl...       # array of mean ages\n",
    "avg_male_vs_female = group_means... > group_means...\n",
    "avg_male_vs_female"
   ]
  },
  {
   "cell_type": "code",
   "execution_count": null,
   "id": "cell-hw07-61",
   "metadata": {
    "deletable": false,
    "editable": false
   },
   "outputs": [],
   "source": [
    "grader.check(\"q3_2\")"
   ]
  },
  {
   "cell_type": "markdown",
   "id": "cell-hw07-62",
   "metadata": {
    "deletable": false,
    "editable": false
   },
   "source": [
    "**Question 3.3.** The data scientists want to use the data to test whether males are older than females—or, in other words, whether the ages of the two groups have the same distribution. One of the following statements is their null hypothesis and another is their alternative hypothesis. Assign `null_statement_number` and `alternative_statement_number` to the numbers of the correct statements in the code cell below. **(4 points)**\n",
    "\n",
    "1. In the sample, the males and females have the same distribution of ages; the sample averages of the two groups are different due to chance.\n",
    "2. In the population, the males and females have the same distribution of ages; the sample averages of the two groups are different due to chance.\n",
    "3. The age distributions of males and females in the population are different due to chance.\n",
    "4. The males in the sample are older than the females, on average.\n",
    "5. The males in the population are older than the females, on average.\n",
    "6. The average ages of the males and females in the population are different.\n"
   ]
  },
  {
   "cell_type": "code",
   "execution_count": null,
   "id": "cell-hw07-63",
   "metadata": {
    "tags": []
   },
   "outputs": [],
   "source": [
    "null_statement_number = ...\n",
    "alternative_statement_number = ..."
   ]
  },
  {
   "cell_type": "code",
   "execution_count": null,
   "id": "cell-hw07-64",
   "metadata": {
    "deletable": false,
    "editable": false
   },
   "outputs": [],
   "source": [
    "grader.check(\"q3_3\")"
   ]
  },
  {
   "cell_type": "markdown",
   "id": "cell-hw07-65",
   "metadata": {
    "deletable": false,
    "editable": false
   },
   "source": [
    "**Question 3.4.** The data scientists have decided to use a permutation test. Assign `permutation_test_reason` to the number corresponding to the reason they made this choice. **(4 points)**\n",
    "\n",
    "1. Since a person's age shouldn't be related to their gender, it doesn't matter who is labeled \"male\" and who is labeled \"female\", so you can use permutations.\n",
    "2. Under the null hypothesis, permuting the labels in the `sampled_ages` table is equivalent to drawing a new random sample with the same number of males and females as in the original sample.\n",
    "3. Under the null hypothesis, permuting the rows of `sampled_ages` table is equivalent to drawing a new random sample with the same number of males and females as in the original sample.\n"
   ]
  },
  {
   "cell_type": "code",
   "execution_count": null,
   "id": "cell-hw07-66",
   "metadata": {
    "tags": []
   },
   "outputs": [],
   "source": [
    "permutation_test_reason = ...\n",
    "permutation_test_reason"
   ]
  },
  {
   "cell_type": "code",
   "execution_count": null,
   "id": "cell-hw07-67",
   "metadata": {
    "deletable": false,
    "editable": false
   },
   "outputs": [],
   "source": [
    "grader.check(\"q3_4\")"
   ]
  },
  {
   "cell_type": "markdown",
   "id": "cell-hw07-68",
   "metadata": {
    "deletable": false,
    "editable": false
   },
   "source": [
    "**Question 3.5.** To test their hypotheses, the data scientists have followed our textbook's advice and chosen a test statistic where the following statement is true: Large values of the test statistic favor the alternative hypothesis.\n",
    "\n",
    "The data scientists' test statistic is one of the two options below. Which one is it? Assign the appropriate number to the variable `correct_test_stat`. **(4 points)**\n",
    "\n",
    "1. \"male age average - female age average\" in a sample created by randomly shuffling the male/female labels\n",
    "2. \"|male age average - female age average|\" in a sample created by randomly shuffling the male/female labels\n"
   ]
  },
  {
   "cell_type": "code",
   "execution_count": null,
   "id": "cell-hw07-69",
   "metadata": {
    "tags": []
   },
   "outputs": [],
   "source": [
    "correct_test_stat = ...\n",
    "correct_test_stat"
   ]
  },
  {
   "cell_type": "code",
   "execution_count": null,
   "id": "cell-hw07-70",
   "metadata": {
    "deletable": false,
    "editable": false
   },
   "outputs": [],
   "source": [
    "grader.check(\"q3_5\")"
   ]
  },
  {
   "cell_type": "markdown",
   "id": "cell-hw07-71",
   "metadata": {
    "deletable": false,
    "editable": false
   },
   "source": [
    "**Question 3.6.** Complete the cell below so that `observed_statistic_ab` evaluates to the observed value of the data scientists' test statistic. Use as many lines of code as you need, and remember that you can use any quantity, table, or array that you created earlier. **(4 points)**\n"
   ]
  },
  {
   "cell_type": "code",
   "execution_count": null,
   "id": "cell-hw07-72",
   "metadata": {
    "tags": []
   },
   "outputs": [],
   "source": [
    "observed_statistic_ab = ...\n",
    "observed_statistic_ab"
   ]
  },
  {
   "cell_type": "code",
   "execution_count": null,
   "id": "cell-hw07-73",
   "metadata": {
    "deletable": false,
    "editable": false
   },
   "outputs": [],
   "source": [
    "grader.check(\"q3_6\")"
   ]
  },
  {
   "cell_type": "markdown",
   "id": "cell-hw07-74",
   "metadata": {
    "deletable": false,
    "editable": false
   },
   "source": [
    "**Question 3.7.** Assign `shuffled_labels` to an array of shuffled male/female labels. The rest of the code puts the array in a table along with the data in `sampled_ages`. **(4 points)**\n",
    "\n",
    "*Note:* Check out [12.1](https://inferentialthinking.com/chapters/12/1/AB_Testing.html#predicting-the-statistic-under-the-null-hypothesis) for a refresher on random permutations.\n"
   ]
  },
  {
   "cell_type": "code",
   "execution_count": null,
   "id": "cell-hw07-75",
   "metadata": {
    "tags": []
   },
   "outputs": [],
   "source": [
    "shuffled_labels = ...\n",
    "original_with_shuffled_labels = sampled_ages.with_columns('Shuffled Label', shuffled_labels)\n",
    "original_with_shuffled_labels"
   ]
  },
  {
   "cell_type": "code",
   "execution_count": null,
   "id": "cell-hw07-76",
   "metadata": {
    "deletable": false,
    "editable": false
   },
   "outputs": [],
   "source": [
    "grader.check(\"q3_7\")"
   ]
  },
  {
   "cell_type": "markdown",
   "id": "cell-hw07-77",
   "metadata": {
    "deletable": false,
    "editable": false
   },
   "source": [
    "**Question 3.8.** The comparison below uses the array `shuffled_labels` from Question 3.7 and the count `num_females` from Question 3.1.\n",
    "\n",
    "For this comparison, assign the correct number from one of the following options to the variable `correct_q8`. **Pretend this is a midterm problem and solve it without doing the calculation in a code cell.** **(4 points)**\n",
    "\n",
    "`comp = np.count_nonzero(shuffled_labels == 'female') == num_females`\n",
    "\n",
    "1. `comp` is set to `True`.\n",
    "2. `comp` is set to `False`.\n",
    "3. `comp` is set to `True` or `False`, depending on how the shuffle came out.\n"
   ]
  },
  {
   "cell_type": "code",
   "execution_count": null,
   "id": "cell-hw07-78",
   "metadata": {
    "tags": []
   },
   "outputs": [],
   "source": [
    "correct_q8 = ...\n",
    "correct_q8"
   ]
  },
  {
   "cell_type": "code",
   "execution_count": null,
   "id": "cell-hw07-79",
   "metadata": {
    "deletable": false,
    "editable": false
   },
   "outputs": [],
   "source": [
    "grader.check(\"q3_8\")"
   ]
  },
  {
   "cell_type": "markdown",
   "id": "cell-hw07-80",
   "metadata": {
    "deletable": false,
    "editable": false
   },
   "source": [
    "**Question 3.9.** Define a function `simulate_one_statistic` that takes no arguments and returns one simulated value of the test statistic. We've given you a skeleton, but feel free to approach this question in a way that makes sense to you. Use as many lines of code as you need. Refer to the code you have previously written in this problem, as you might be able to re-use some of it. **(4 points)**\n"
   ]
  },
  {
   "cell_type": "code",
   "execution_count": null,
   "id": "cell-hw07-81",
   "metadata": {
    "tags": []
   },
   "outputs": [],
   "source": [
    "def simulate_one_statistic():\n",
    "    \"Returns one value of our simulated test statistic\"\n",
    "    shuffled_labels = ...\n",
    "    shuffled_tbl = ...\n",
    "    group_means = ...\n",
    "    ..."
   ]
  },
  {
   "cell_type": "code",
   "execution_count": null,
   "id": "cell-hw07-82",
   "metadata": {
    "deletable": false,
    "editable": false
   },
   "outputs": [],
   "source": [
    "grader.check(\"q3_9\")"
   ]
  },
  {
   "cell_type": "markdown",
   "id": "cell-hw07-83",
   "metadata": {},
   "source": [
    "After you have defined your function, run the following cell a few times to see how the statistic varies."
   ]
  },
  {
   "cell_type": "code",
   "execution_count": null,
   "id": "cell-hw07-84",
   "metadata": {},
   "outputs": [],
   "source": [
    "simulate_one_statistic()"
   ]
  },
  {
   "cell_type": "markdown",
   "id": "cell-hw07-85",
   "metadata": {
    "deletable": false,
    "editable": false
   },
   "source": [
    "**Question 3.10.** Complete the cell to simulate 4,000 values of the statistic. We have included the code that draws the empirical distribution of the statistic and shows the value of `observed_statistic_ab` from Question 3.6. Feel free to use as many lines of code as you need. **(4 points)**\n",
    "\n",
    "*Note:* This cell will take around a minute to run.\n"
   ]
  },
  {
   "cell_type": "code",
   "execution_count": null,
   "id": "cell-hw07-86",
   "metadata": {
    "scrolled": true,
    "tags": []
   },
   "outputs": [],
   "source": [
    "repetitions = 4000\n",
    "\n",
    "simulated_statistics_ab = make_array()\n",
    "...\n",
    "    simulated_statistics_ab = ...\n",
    "\n",
    "# Do not change these lines\n",
    "Table().with_columns('Simulated Statistic', simulated_statistics_ab).hist()\n",
    "plt.scatter(observed_statistic_ab, -0.002, color='red', s=70);"
   ]
  },
  {
   "cell_type": "code",
   "execution_count": null,
   "id": "cell-hw07-87",
   "metadata": {
    "deletable": false,
    "editable": false
   },
   "outputs": [],
   "source": [
    "grader.check(\"q3_10\")"
   ]
  },
  {
   "cell_type": "markdown",
   "id": "cell-hw07-88",
   "metadata": {
    "deletable": false,
    "editable": false
   },
   "source": [
    "**Question 3.11.** Use the simulation to find an empirical approximation to the p-value. Assign `p_val` to the appropriate p-value from this simulation. Then, assign `conclusion` to either `null_hyp` or `alt_hyp`. **(4 points)** \n",
    "\n",
    "*Note:* Assume that we use the 5% cutoff for the p-value.\n"
   ]
  },
  {
   "cell_type": "code",
   "execution_count": null,
   "id": "cell-hw07-89",
   "metadata": {
    "tags": []
   },
   "outputs": [],
   "source": [
    "# These are variables provided for you to use.\n",
    "null_hyp = 'The data are consistent with the null hypothesis.'\n",
    "alt_hyp = 'The data support the alternative more than the null.'\n",
    "\n",
    "p_val = ...\n",
    "conclusion = ...\n",
    "\n",
    "p_val, conclusion # Do not change this line"
   ]
  },
  {
   "cell_type": "code",
   "execution_count": null,
   "id": "cell-hw07-90",
   "metadata": {
    "deletable": false,
    "editable": false
   },
   "outputs": [],
   "source": [
    "grader.check(\"q3_11\")"
   ]
  },
  {
   "cell_type": "markdown",
   "id": "cell-hw07-91",
   "metadata": {},
   "source": [
    "You're done with Homework 7!  \n",
    "\n",
    "**Important submission steps:** \n",
    "1. Run the tests and verify that they all pass.\n",
    "2. Choose **Save Notebook** from the **File** menu, then **run the final cell**. \n",
    "3. Click the link to download the zip file.\n",
    "4. Then submit the zip file to the corresponding assignment according to your instructor's directions. \n",
    "\n",
    "**It is your responsibility to make sure your work is saved before running the last cell.**"
   ]
  },
  {
   "cell_type": "markdown",
   "id": "cell-hw07-92",
   "metadata": {
    "deletable": false,
    "editable": false
   },
   "source": [
    "## Submission\n",
    "\n",
    "Make sure you have run all cells in your notebook in order before running the cell below, so that all images/graphs appear in the output. The cell below will generate a zip file for you to submit. **Please save before exporting!**"
   ]
  },
  {
   "cell_type": "code",
   "execution_count": null,
   "id": "cell-hw07-93",
   "metadata": {
    "deletable": false,
    "editable": false
   },
   "outputs": [],
   "source": [
    "# Save your notebook first, then run this cell to export your submission.\n",
    "grader.export(run_tests=True)"
   ]
  },
  {
   "cell_type": "markdown",
   "id": "cell-hw07-94",
   "metadata": {},
   "source": [
    " "
   ]
  }
 ],
 "metadata": {
  "kernelspec": {
   "display_name": "Python 3",
   "language": "python",
   "name": "python3"
  },
  "language_info": {
   "codemirror_mode": {
    "name": "ipython",
    "version": 3
   },
   "file_extension": ".py",
   "mimetype": "text/x-python",
   "name": "python",
   "nbconvert_exporter": "python",
   "pygments_lexer": "ipython3",
   "version": "3.13.3"
  },
  "otter": {
   "OK_FORMAT": true,
   "tests": {
    "q1_1": {
     "name": "q1_1",
     "points": [
      0,
      0,
      0,
      0
     ],
     "suites": [
      {
       "cases": [
        {
         "code": ">>> type(sample_size) == int\nTrue",
         "hidden": false,
         "locked": false
        },
        {
         "code": ">>> type(percent_V1) == float or type(percent_V1) == int\nTrue",
         "hidden": false,
         "locked": false
        },
        {
         "code": ">>> 100 <= sample_size <= 500\nTrue",
         "hidden": false,
         "locked": false
        },
        {
         "code": ">>> 0 <= percent_V1 <= 100\nTrue",
         "hidden": false,
         "locked": false
        }
       ],
       "scored": true,
       "setup": "",
       "teardown": "",
       "type": "doctest"
      }
     ]
    },
    "q1_4": {
     "name": "q1_4",
     "points": [
      0,
      0
     ],
     "suites": [
      {
       "cases": [
        {
         "code": ">>> type(valid_test_stat) == int\nTrue",
         "hidden": false,
         "locked": false
        },
        {
         "code": ">>> any((valid_test_stat == x for x in np.arange(1, 5)))\nTrue",
         "hidden": false,
         "locked": false
        }
       ],
       "scored": true,
       "setup": "",
       "teardown": "",
       "type": "doctest"
      }
     ]
    },
    "q1_5": {
     "name": "q1_5",
     "points": [
      0,
      0
     ],
     "suites": [
      {
       "cases": [
        {
         "code": ">>> type(observed_statistic) == float\nTrue",
         "hidden": false,
         "locked": false
        },
        {
         "code": ">>> 0 <= observed_statistic <= 100\nTrue",
         "hidden": false,
         "locked": false
        }
       ],
       "scored": true,
       "setup": "",
       "teardown": "",
       "type": "doctest"
      }
     ]
    },
    "q1_6": {
     "name": "q1_6",
     "points": [
      0,
      0
     ],
     "suites": [
      {
       "cases": [
        {
         "code": ">>> type(assumption_needed) == int\nTrue",
         "hidden": false,
         "locked": false
        },
        {
         "code": ">>> 1 <= assumption_needed <= 4\nTrue",
         "hidden": false,
         "locked": false
        }
       ],
       "scored": true,
       "setup": "",
       "teardown": "",
       "type": "doctest"
      }
     ]
    },
    "q1_8": {
     "name": "q1_8",
     "points": [
      0,
      0
     ],
     "suites": [
      {
       "cases": [
        {
         "code": ">>> import numpy as np\n>>> type(p_value) == float or type(p_value) == np.float64\nTrue",
         "hidden": false,
         "locked": false
        },
        {
         "code": ">>> 0 <= p_value <= 1\nTrue",
         "hidden": false,
         "locked": false
        }
       ],
       "scored": true,
       "setup": "",
       "teardown": "",
       "type": "doctest"
      }
     ]
    },
    "q1_9": {
     "name": "q1_9",
     "points": [
      0,
      0
     ],
     "suites": [
      {
       "cases": [
        {
         "code": ">>> type(correct_doctor) == int\nTrue",
         "hidden": false,
         "locked": false
        },
        {
         "code": ">>> any((correct_doctor == x for x in (1, 2)))\nTrue",
         "hidden": false,
         "locked": false
        }
       ],
       "scored": true,
       "setup": "",
       "teardown": "",
       "type": "doctest"
      }
     ]
    },
    "q2_2": {
     "name": "q2_2",
     "points": [
      2,
      2
     ],
     "suites": [
      {
       "cases": [
        {
         "code": ">>> import numpy as np\n>>> type(observed_tvd) in set([float, np.float32, np.float64])\nTrue",
         "hidden": false,
         "locked": false
        },
        {
         "code": ">>> np.isclose(round(observed_tvd, 6), 0.262086)\nTrue",
         "hidden": false,
         "locked": false
        }
       ],
       "scored": true,
       "setup": "",
       "teardown": "",
       "type": "doctest"
      }
     ]
    },
    "q2_3": {
     "name": "q2_3",
     "points": [
      1,
      1,
      1,
      1
     ],
     "suites": [
      {
       "cases": [
        {
         "code": ">>> len(simulated_tvds) == 10000\nTrue",
         "hidden": false,
         "locked": false
        },
        {
         "code": ">>> all(simulated_tvds >= 0)\nTrue",
         "hidden": false,
         "locked": false
        },
        {
         "code": ">>> len(np.unique(simulated_tvds)) != 1\nTrue",
         "hidden": false,
         "locked": false
        },
        {
         "code": ">>> np.mean(simulated_tvds) < 0.1\nTrue",
         "hidden": false,
         "locked": false
        }
       ],
       "scored": true,
       "setup": "",
       "teardown": "",
       "type": "doctest"
      }
     ]
    },
    "q2_4": {
     "name": "q2_4",
     "points": [
      4
     ],
     "suites": [
      {
       "cases": [
        {
         "code": ">>> 0 <= p_value_tvd <= 1\nTrue",
         "hidden": false,
         "locked": false
        }
       ],
       "scored": true,
       "setup": "",
       "teardown": "",
       "type": "doctest"
      }
     ]
    },
    "q3_1": {
     "name": "q3_1",
     "points": [
      0
     ],
     "suites": [
      {
       "cases": [
        {
         "code": ">>> 0 <= num_females <= 500\nTrue",
         "hidden": false,
         "locked": false
        }
       ],
       "scored": true,
       "setup": "",
       "teardown": "",
       "type": "doctest"
      }
     ]
    },
    "q3_10": {
     "name": "q3_10",
     "points": [
      4
     ],
     "suites": [
      {
       "cases": [
        {
         "code": ">>> len(simulated_statistics_ab) == 4000\nTrue",
         "hidden": false,
         "locked": false
        }
       ],
       "scored": true,
       "setup": "",
       "teardown": "",
       "type": "doctest"
      }
     ]
    },
    "q3_11": {
     "name": "q3_11",
     "points": [
      0,
      0,
      0
     ],
     "suites": [
      {
       "cases": [
        {
         "code": ">>> import numpy as np\n>>> type(p_val) in set([float, np.float32, np.float64])\nTrue",
         "hidden": false,
         "locked": false
        },
        {
         "code": ">>> 0 <= p_val <= 1\nTrue",
         "hidden": false,
         "locked": false
        },
        {
         "code": ">>> type(conclusion) == str\nTrue",
         "hidden": false,
         "locked": false
        }
       ],
       "scored": true,
       "setup": "",
       "teardown": "",
       "type": "doctest"
      }
     ]
    },
    "q3_2": {
     "name": "q3_2",
     "points": [
      0
     ],
     "suites": [
      {
       "cases": [
        {
         "code": ">>> import numpy as np\n>>> type(avg_male_vs_female) in set([bool, np.bool_])\nTrue",
         "hidden": false,
         "locked": false
        }
       ],
       "scored": true,
       "setup": "",
       "teardown": "",
       "type": "doctest"
      }
     ]
    },
    "q3_3": {
     "name": "q3_3",
     "points": [
      0,
      0,
      0,
      0,
      0
     ],
     "suites": [
      {
       "cases": [
        {
         "code": ">>> type(null_statement_number) == int\nTrue",
         "hidden": false,
         "locked": false
        },
        {
         "code": ">>> type(alternative_statement_number) == int\nTrue",
         "hidden": false,
         "locked": false
        },
        {
         "code": ">>> any((null_statement_number == x for x in np.arange(1, 7)))\nTrue",
         "hidden": false,
         "locked": false
        },
        {
         "code": ">>> any((alternative_statement_number == x for x in np.arange(1, 7)))\nTrue",
         "hidden": false,
         "locked": false
        },
        {
         "code": ">>> null_statement_number != alternative_statement_number\nTrue",
         "hidden": false,
         "locked": false
        }
       ],
       "scored": true,
       "setup": "",
       "teardown": "",
       "type": "doctest"
      }
     ]
    },
    "q3_4": {
     "name": "q3_4",
     "points": [
      0,
      0
     ],
     "suites": [
      {
       "cases": [
        {
         "code": ">>> type(permutation_test_reason) == int\nTrue",
         "hidden": false,
         "locked": false
        },
        {
         "code": ">>> any((permutation_test_reason == x for x in np.arange(1, 4)))\nTrue",
         "hidden": false,
         "locked": false
        }
       ],
       "scored": true,
       "setup": "",
       "teardown": "",
       "type": "doctest"
      }
     ]
    },
    "q3_5": {
     "name": "q3_5",
     "points": [
      0,
      0
     ],
     "suites": [
      {
       "cases": [
        {
         "code": ">>> type(correct_test_stat) == int\nTrue",
         "hidden": false,
         "locked": false
        },
        {
         "code": ">>> any((correct_test_stat == x for x in np.arange(1, 3)))\nTrue",
         "hidden": false,
         "locked": false
        }
       ],
       "scored": true,
       "setup": "",
       "teardown": "",
       "type": "doctest"
      }
     ]
    },
    "q3_6": {
     "name": "q3_6",
     "points": [
      0,
      0
     ],
     "suites": [
      {
       "cases": [
        {
         "code": ">>> type(observed_statistic_ab) == float\nTrue",
         "hidden": false,
         "locked": false
        },
        {
         "code": ">>> observed_statistic_ab >= 0\nTrue",
         "hidden": false,
         "locked": false
        }
       ],
       "scored": true,
       "setup": "",
       "teardown": "",
       "type": "doctest"
      }
     ]
    },
    "q3_7": {
     "name": "q3_7",
     "points": [
      0,
      0,
      0
     ],
     "suites": [
      {
       "cases": [
        {
         "code": ">>> type(original_with_shuffled_labels) == Table\nTrue",
         "hidden": false,
         "locked": false
        },
        {
         "code": ">>> original_with_shuffled_labels.labels == ('Gender', 'Age', 'Shuffled Label')\nTrue",
         "hidden": false,
         "locked": false
        },
        {
         "code": ">>> original_with_shuffled_labels.num_rows == 500\nTrue",
         "hidden": false,
         "locked": false
        }
       ],
       "scored": true,
       "setup": "",
       "teardown": "",
       "type": "doctest"
      }
     ]
    },
    "q3_8": {
     "name": "q3_8",
     "points": [
      0,
      0
     ],
     "suites": [
      {
       "cases": [
        {
         "code": ">>> type(correct_q8) == int\nTrue",
         "hidden": false,
         "locked": false
        },
        {
         "code": ">>> any((correct_q8 == x for x in np.arange(1, 4)))\nTrue",
         "hidden": false,
         "locked": false
        }
       ],
       "scored": true,
       "setup": "",
       "teardown": "",
       "type": "doctest"
      }
     ]
    },
    "q3_9": {
     "name": "q3_9",
     "points": [
      4
     ],
     "suites": [
      {
       "cases": [
        {
         "code": ">>> -5 < simulate_one_statistic() < 5\nTrue",
         "hidden": false,
         "locked": false
        }
       ],
       "scored": true,
       "setup": "",
       "teardown": "",
       "type": "doctest"
      }
     ]
    }
   }
  }
 },
 "nbformat": 4,
 "nbformat_minor": 5
}
